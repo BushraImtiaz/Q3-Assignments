

{
 "cells": [
  {
   "cell_type": "code",
   "execution_count": 21,
   "metadata": {},
   "outputs": [],
   "source": [
    "import os, shutil\n"
   ]
  },
  {
   "cell_type": "code",
   "execution_count": 2,
   "metadata": {},
   "outputs": [],
   "source": [
    "train_dir = 'C:/Users/FAYYAZ/Desktop/famly/data/train'\n"
   ]
  },
  {
   "cell_type": "code",
   "execution_count": 3,
   "metadata": {},
   "outputs": [],
   "source": [
    "validation_dir = 'C:/Users/FAYYAZ/Desktop/famly/data/val'"
   ]
  },
  {
   "cell_type": "code",
   "execution_count": 56,
   "metadata": {},
   "outputs": [],
   "source": [
    "#test_dir = 'C:/Users/FAYYAZ/Desktop/celeb/test'"
   ]
  },
  {
   "cell_type": "code",
   "execution_count": 5,
   "metadata": {},
   "outputs": [],
   "source": [
    "import tensorflow as tf\n"
   ]
  },
  {
   "cell_type": "code",
   "execution_count": 9,
   "metadata": {},
   "outputs": [],
   "source": [
    "from tensorflow.keras import layers\n",
    "from tensorflow.keras import models\n",
    "\n",
    "model = models.Sequential()\n",
    "model.add(layers.Conv2D(32, (3, 3), activation='relu',\n",
    "                        input_shape=(150, 150, 3)))\n",
    "model.add(layers.MaxPooling2D((2, 2)))\n",
    "model.add(layers.Conv2D(64, (3, 3), activation='relu'))\n",
    "model.add(layers.MaxPooling2D((2, 2)))\n",
    "model.add(layers.Conv2D(128, (3, 3), activation='relu'))\n",
    "model.add(layers.MaxPooling2D((2, 2)))\n",
    "model.add(layers.Conv2D(128, (3, 3), activation='relu'))\n",
    "model.add(layers.MaxPooling2D((2, 2)))\n",
    "model.add(layers.Flatten())\n",
    "model.add(layers.Dense(512, activation='relu'))\n",
    "model.add(layers.Dense(5, activation='softmax'))"
   ]
  },
  {
   "cell_type": "code",
   "execution_count": 10,
   "metadata": {},
   "outputs": [
    {
     "name": "stdout",
     "output_type": "stream",
     "text": [
      "Model: \"sequential_2\"\n",
      "_________________________________________________________________\n",
      "Layer (type)                 Output Shape              Param #   \n",
      "=================================================================\n",
      "conv2d_8 (Conv2D)            (None, 148, 148, 32)      896       \n",
      "_________________________________________________________________\n",
      "max_pooling2d_8 (MaxPooling2 (None, 74, 74, 32)        0         \n",
      "_________________________________________________________________\n",
      "conv2d_9 (Conv2D)            (None, 72, 72, 64)        18496     \n",
      "_________________________________________________________________\n",
      "max_pooling2d_9 (MaxPooling2 (None, 36, 36, 64)        0         \n",
      "_________________________________________________________________\n",
      "conv2d_10 (Conv2D)           (None, 34, 34, 128)       73856     \n",
      "_________________________________________________________________\n",
      "max_pooling2d_10 (MaxPooling (None, 17, 17, 128)       0         \n",
      "_________________________________________________________________\n",
      "conv2d_11 (Conv2D)           (None, 15, 15, 128)       147584    \n",
      "_________________________________________________________________\n",
      "max_pooling2d_11 (MaxPooling (None, 7, 7, 128)         0         \n",
      "_________________________________________________________________\n",
      "flatten_2 (Flatten)          (None, 6272)              0         \n",
      "_________________________________________________________________\n",
      "dense_4 (Dense)              (None, 512)               3211776   \n",
      "_________________________________________________________________\n",
      "dense_5 (Dense)              (None, 5)                 2565      \n",
      "=================================================================\n",
      "Total params: 3,455,173\n",
      "Trainable params: 3,455,173\n",
      "Non-trainable params: 0\n",
      "_________________________________________________________________\n"
     ]
    }
   ],
   "source": [
    "model.summary()"
   ]
  },
  {
   "cell_type": "code",
   "execution_count": 11,
   "metadata": {},
   "outputs": [],
   "source": [
    "from tensorflow.keras import optimizers\n",
    "\n",
    "model.compile(loss='categorical_crossentropy',\n",
    "              optimizer=optimizers.RMSprop(lr=1e-4),\n",
    "              metrics=['acc'])"
   ]
  },
  {
   "cell_type": "code",
   "execution_count": 12,
   "metadata": {},
   "outputs": [],
   "source": [
    "from tensorflow.keras.preprocessing.image import ImageDataGenerator"
   ]
  },
  {
   "cell_type": "code",
   "execution_count": 13,
   "metadata": {},
   "outputs": [],
   "source": [
    "train_datagen = ImageDataGenerator(rescale=1./255)\n",
    "test_datagen = ImageDataGenerator(rescale=1./255)"
   ]
  },
  {
   "cell_type": "code",
   "execution_count": 22,
   "metadata": {},
   "outputs": [
    {
     "name": "stdout",
     "output_type": "stream",
     "text": [
      "Found 93 images belonging to 5 classes.\n"
     ]
    }
   ],
   "source": [
    "train_generator = train_datagen.flow_from_directory(\n",
    "        # This is the target directory\n",
    "        train_dir,\n",
    "        # All images will be resized to 150x150\n",
    "        target_size=(150, 150),\n",
    "        batch_size=5,\n",
    "        # Since we use binary_crossentropy loss, we need binary labels\n",
    "        class_mode='categorical')"
   ]
  },
  {
   "cell_type": "code",
   "execution_count": 23,
   "metadata": {},
   "outputs": [
    {
     "name": "stdout",
     "output_type": "stream",
     "text": [
      "Found 25 images belonging to 5 classes.\n"
     ]
    }
   ],
   "source": [
    "validation_generator = test_datagen.flow_from_directory(\n",
    "        validation_dir,\n",
    "        target_size=(150, 150),\n",
    "        batch_size=5,\n",
    "        class_mode='categorical')"
   ]
  },
  {
   "cell_type": "code",
   "execution_count": 24,
   "metadata": {},
   "outputs": [
    {
     "name": "stdout",
     "output_type": "stream",
     "text": [
      "data batch shape: (5, 150, 150, 3)\n",
      "labels batch shape: (5, 5)\n"
     ]
    }
   ],
   "source": [
    "for data_batch, labels_batch in train_generator:\n",
    "    print('data batch shape:', data_batch.shape)\n",
    "    print('labels batch shape:', labels_batch.shape)\n",
    "    break"
   ]
  },
  {
   "cell_type": "code",
   "execution_count": 20,
   "metadata": {},
   "outputs": [
    {
     "name": "stdout",
     "output_type": "stream",
     "text": [
      "Epoch 1/30\n",
      "20/20 [==============================] - 14s 704ms/step - loss: 1.6223 - acc: 0.1735 - val_loss: 1.5865 - val_acc: 0.2800\n",
      "Epoch 2/30\n",
      "20/20 [==============================] - 9s 449ms/step - loss: 1.5300 - acc: 0.3229 - val_loss: 1.5816 - val_acc: 0.2400\n",
      "Epoch 3/30\n",
      "20/20 [==============================] - 9s 448ms/step - loss: 1.4813 - acc: 0.5000 - val_loss: 1.4826 - val_acc: 0.3600\n",
      "Epoch 4/30\n",
      "20/20 [==============================] - 9s 427ms/step - loss: 1.2544 - acc: 0.6200 - val_loss: 1.5103 - val_acc: 0.3600\n",
      "Epoch 5/30\n",
      "20/20 [==============================] - 9s 441ms/step - loss: 1.0824 - acc: 0.6837 - val_loss: 1.3837 - val_acc: 0.4000\n",
      "Epoch 6/30\n",
      "20/20 [==============================] - 9s 447ms/step - loss: 0.9538 - acc: 0.6224 - val_loss: 1.5032 - val_acc: 0.3600\n",
      "Epoch 7/30\n",
      "20/20 [==============================] - 9s 448ms/step - loss: 0.7986 - acc: 0.7245 - val_loss: 1.2907 - val_acc: 0.5600\n",
      "Epoch 8/30\n",
      "20/20 [==============================] - 8s 416ms/step - loss: 0.6149 - acc: 0.7857 - val_loss: 1.3627 - val_acc: 0.5600\n",
      "Epoch 9/30\n",
      "20/20 [==============================] - 8s 423ms/step - loss: 0.4762 - acc: 0.9062 - val_loss: 1.4389 - val_acc: 0.4800\n",
      "Epoch 10/30\n",
      "20/20 [==============================] - 8s 415ms/step - loss: 0.4353 - acc: 0.8980 - val_loss: 1.4802 - val_acc: 0.5200\n",
      "Epoch 11/30\n",
      "20/20 [==============================] - 8s 413ms/step - loss: 0.2456 - acc: 0.9286 - val_loss: 1.4300 - val_acc: 0.5600\n",
      "Epoch 12/30\n",
      "20/20 [==============================] - 8s 416ms/step - loss: 0.2574 - acc: 0.9592 - val_loss: 1.5390 - val_acc: 0.5200\n",
      "Epoch 13/30\n",
      "20/20 [==============================] - 8s 414ms/step - loss: 0.1241 - acc: 0.9898 - val_loss: 1.5722 - val_acc: 0.6000\n",
      "Epoch 14/30\n",
      "20/20 [==============================] - 8s 418ms/step - loss: 0.1024 - acc: 0.9898 - val_loss: 1.7920 - val_acc: 0.6000\n",
      "Epoch 15/30\n",
      "20/20 [==============================] - 9s 433ms/step - loss: 0.0435 - acc: 1.0000 - val_loss: 2.1043 - val_acc: 0.4800\n",
      "Epoch 16/30\n",
      "20/20 [==============================] - 9s 437ms/step - loss: 0.0868 - acc: 0.9700 - val_loss: 1.9631 - val_acc: 0.5200\n",
      "Epoch 17/30\n",
      "20/20 [==============================] - 8s 413ms/step - loss: 0.0150 - acc: 1.0000 - val_loss: 2.4654 - val_acc: 0.4400\n",
      "Epoch 18/30\n",
      "20/20 [==============================] - 9s 426ms/step - loss: 0.0218 - acc: 1.0000 - val_loss: 2.4150 - val_acc: 0.4800\n",
      "Epoch 19/30\n",
      "20/20 [==============================] - 9s 432ms/step - loss: 0.0608 - acc: 0.9796 - val_loss: 2.1260 - val_acc: 0.6000\n",
      "Epoch 20/30\n",
      "20/20 [==============================] - 8s 415ms/step - loss: 0.0046 - acc: 1.0000 - val_loss: 2.2024 - val_acc: 0.5600\n",
      "Epoch 21/30\n",
      "20/20 [==============================] - 8s 415ms/step - loss: 0.0025 - acc: 1.0000 - val_loss: 2.4345 - val_acc: 0.5600\n",
      "Epoch 22/30\n",
      "20/20 [==============================] - 9s 444ms/step - loss: 0.0030 - acc: 1.0000 - val_loss: 3.5885 - val_acc: 0.4400\n",
      "Epoch 23/30\n",
      "20/20 [==============================] - 8s 419ms/step - loss: 0.0050 - acc: 1.0000 - val_loss: 2.6026 - val_acc: 0.5600\n",
      "Epoch 24/30\n",
      "20/20 [==============================] - 8s 414ms/step - loss: 5.0713e-04 - acc: 1.0000 - val_loss: 2.9132 - val_acc: 0.5600\n",
      "Epoch 25/30\n",
      "20/20 [==============================] - 9s 468ms/step - loss: 2.5645e-04 - acc: 1.0000 - val_loss: 3.1809 - val_acc: 0.6400\n",
      "Epoch 26/30\n",
      "20/20 [==============================] - 9s 470ms/step - loss: 0.0040 - acc: 1.0000 - val_loss: 3.3254 - val_acc: 0.5200\n",
      "Epoch 27/30\n",
      "20/20 [==============================] - 10s 519ms/step - loss: 3.7527e-04 - acc: 1.0000 - val_loss: 3.3308 - val_acc: 0.5200\n",
      "Epoch 28/30\n",
      "20/20 [==============================] - 8s 422ms/step - loss: 8.2970e-05 - acc: 1.0000 - val_loss: 3.4575 - val_acc: 0.5600\n",
      "Epoch 29/30\n",
      "20/20 [==============================] - 8s 423ms/step - loss: 3.8422e-05 - acc: 1.0000 - val_loss: 3.6951 - val_acc: 0.5600\n",
      "Epoch 30/30\n",
      "20/20 [==============================] - 9s 426ms/step - loss: 2.3625e-05 - acc: 1.0000 - val_loss: 3.9653 - val_acc: 0.5200\n"
     ]
    }
   ],
   "source": [
    "history = model.fit_generator(\n",
    "      train_generator,\n",
    "      steps_per_epoch=20,\n",
    "      epochs=30,\n",
    "      validation_data=validation_generator,\n",
    "      validation_steps=5)\n",
    "     "
   ]
  },
  {
   "cell_type": "code",
   "execution_count": 25,
   "metadata": {},
   "outputs": [],
   "source": [
    "model.save('celeb.h5')"
   ]
  },
  {
   "cell_type": "code",
   "execution_count": 27,
   "metadata": {},
   "outputs": [
    {
     "data": {
      "image/png": "[encoded data removed]",
      "text/plain": [
       "<Figure size 432x288 with 1 Axes>"
      ]
     },
     "metadata": {
      "needs_background": "light"
     },
     "output_type": "display_data"
    },
    {
     "data": {
      "image/png": "[encoded data removed]",
      "text/plain": [
       "<Figure size 432x288 with 1 Axes>"
      ]
     },
     "metadata": {
      "needs_background": "light"
     },
     "output_type": "display_data"
    }
   ],
   "source": [
    "import matplotlib.pyplot as plt\n",
    "\n",
    "acc = history.history['acc']\n",
    "val_acc = history.history['val_acc']\n",
    "loss = history.history['loss']\n",
    "val_loss = history.history['val_loss']\n",
    "\n",
    "epochs = range(len(acc))\n",
    "\n",
    "plt.plot(epochs, acc, 'bo', label='Training acc')\n",
    "plt.plot(epochs, val_acc, 'b', label='Validation acc')\n",
    "plt.title('Training and validation accuracy')\n",
    "plt.legend()\n",
    "\n",
    "plt.figure()\n",
    "\n",
    "plt.plot(epochs, loss, 'bo', label='Training loss')\n",
    "plt.plot(epochs, val_loss, 'b', label='Validation loss')\n",
    "plt.title('Training and validation loss')\n",
    "plt.legend()\n",
    "\n",
    "plt.show()"
   ]
  }
 ],
 "metadata": {
  "kernelspec": {
   "display_name": "Python 3",
   "language": "python",
   "name": "python3"
  },
  "language_info": {
   "codemirror_mode": {
    "name": "ipython",
    "version": 3
   },
   "file_extension": ".py",
   "mimetype": "text/x-python",
   "name": "python",
   "nbconvert_exporter": "python",
   "pygments_lexer": "ipython3",
   "version": "3.7.3"
  }
 },
 "nbformat": 4,
 "nbformat_minor": 2
}
