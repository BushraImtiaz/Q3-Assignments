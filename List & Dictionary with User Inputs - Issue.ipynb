{
 "cells": [
  {
   "cell_type": "code",
   "execution_count": 2,
   "metadata": {},
   "outputs": [
    {
     "name": "stdout",
     "output_type": "stream",
     "text": [
      "PIZZA(s) WITH TOPPINGS\n",
      "=========================\n",
      "\n",
      "Enter the no. of pizzas you want to buy (max 3): 2\n",
      "Enter the toppings you would like in each pizza (max 4): 2\n",
      "\n",
      "Enter the flavor of Pizza No. 1: 1\n",
      "Enter the flavor of Topping No. 1: 2\n",
      "Enter the flavor of Topping No. 2: 3\n",
      "\n",
      "Enter the flavor of Pizza No. 2: 4\n",
      "Enter the flavor of Topping No. 1: 5\n",
      "Enter the flavor of Topping No. 2: 6\n",
      "['1', '4']\n",
      "['2', '3', '5', '6']\n"
     ]
    }
   ],
   "source": [
    "# List in Dictionary\n",
    "# Making a list and dictionary with user inputs\n",
    "print (\"PIZZA(s) WITH TOPPINGS\")\n",
    "print (\"=========================\\n\")\n",
    "p = int (input (\"Enter the no. of pizzas you want to buy (max 3): \"))\n",
    "t = int (input (\"Enter the toppings you would like in each pizza (max 4): \"))\n",
    "b = 1\n",
    "pizzas = []\n",
    "toppings = []\n",
    "for pizza in range(p):\n",
    "    pizza = \"\"\n",
    "    pizza = str(input(f\"\\nEnter the flavor of Pizza No. {b}: \"))\n",
    "    pizzas.append (pizza)\n",
    "    b += 1\n",
    "    c = 1\n",
    "    for topping in range(t):    \n",
    "        topping = str(input(f\"Enter the flavor of Topping No. {c}: \"))\n",
    "        toppings.append (topping)\n",
    "        c += 1\n",
    "print (pizzas)\n",
    "print (toppings)"
   ]
  },
  {
   "cell_type": "code",
   "execution_count": null,
   "metadata": {},
   "outputs": [],
   "source": []
  }
 ],
 "metadata": {
  "kernelspec": {
   "display_name": "Python 3",
   "language": "python",
   "name": "python3"
  },
  "language_info": {
   "codemirror_mode": {
    "name": "ipython",
    "version": 3
   },
   "file_extension": ".py",
   "mimetype": "text/x-python",
   "name": "python",
   "nbconvert_exporter": "python",
   "pygments_lexer": "ipython3",
   "version": "3.7.6"
  }
 },
 "nbformat": 4,
 "nbformat_minor": 4
}
